{
 "cells": [
  {
   "cell_type": "code",
   "execution_count": 3,
   "id": "b11050c1",
   "metadata": {},
   "outputs": [
    {
     "name": "stdout",
     "output_type": "stream",
     "text": [
      "get money\n"
     ]
    }
   ],
   "source": [
    "print('get money')"
   ]
  },
  {
   "cell_type": "code",
   "execution_count": 5,
   "id": "527dbf7a",
   "metadata": {},
   "outputs": [
    {
     "name": "stdout",
     "output_type": "stream",
     "text": [
      "class DoublyLinkedList(object):\n",
      "    \"\"\"DoublyLinkedList\n",
      "    DoublyLinkedList Class\n",
      "    \"\"\"\n",
      "    def __init__(self):\n",
      "        \"\"\"\n",
      "        constructor\n",
      "        \"\"\"\n",
      "        self.head = None\n",
      "\n",
      "    def get_data(self):\n",
      "        \"\"\"\n",
      "        prints the elements in the linked list\n",
      "        \"\"\"\n",
      "        temp = self.head\n",
      "        l_list = []\n",
      "        while temp:\n",
      "            l_list.append(temp.data)\n",
      "            temp = temp.next\n",
      "        return l_list\n",
      "\n",
      "    def insert_at_start(self, data):\n",
      "        \"\"\"\n",
      "        insert an element at the beginning of the linked list\n",
      "        \"\"\"\n",
      "        if self.head is None:\n",
      "            self.head = Node(data)\n",
      "        else:\n",
      "            new_node = Node(data)\n",
      "            self.head.previous = new_node\n",
      "            new_node.next = self.head\n",
      "            self.head = new_node\n",
      "\n",
      "    def insert_at_end(self, data):\n",
      "        \"\"\"\n",
      "        insert an element at the end of the linked list\n",
      "        \"\"\"\n",
      "        new_node = Node(data)\n",
      "        temp = self.head\n",
      "        while temp.next is not None:\n",
      "            temp = temp.next\n",
      "        temp.next = new_node\n",
      "        new_node.previous = temp\n",
      "\n",
      "    def delete(self, data):\n",
      "        \"\"\"\n",
      "        to delete specified element from the linked list\n",
      "        \"\"\"\n",
      "        temp = self.head\n",
      "        if temp.next is not None:\n",
      "            # if head node is to be deleted\n",
      "            if temp.data == data:\n",
      "                temp.next.previous = None\n",
      "                self.head = temp.next\n",
      "                temp.next = None\n",
      "                return\n",
      "            else:\n",
      "                while temp.next is not None:\n",
      "                    if temp.data == data:\n",
      "                        break\n",
      "                    temp = temp.next\n",
      "                if temp.next:\n",
      "                    # if element to be deleted is in between\n",
      "                    temp.previous.next = temp.next\n",
      "                    temp.next.previous = temp.previous\n",
      "                    temp.next = None\n",
      "                    temp.previous = None\n",
      "                else:\n",
      "                    # if element to be deleted is the last element\n",
      "                    temp.previous.next = None\n",
      "                    temp.previous = None\n",
      "                return\n",
      "\n",
      "        if temp is None:\n",
      "            return\n",
      "\n",
      "    @staticmethod\n",
      "    def get_code():\n",
      "        \"\"\"\n",
      "        returns the code of the current class\n",
      "        \"\"\"\n",
      "        return inspect.getsource(DoublyLinkedList)\n",
      "\n"
     ]
    }
   ],
   "source": [
    "from pygorithm.data_structures.linked_list import DoublyLinkedList\n",
    "x = DoublyLinkedList()\n",
    "print (x.get_code())"
   ]
  },
  {
   "cell_type": "code",
   "execution_count": 7,
   "id": "5ed5d92e",
   "metadata": {},
   "outputs": [
    {
     "name": "stdout",
     "output_type": "stream",
     "text": [
      "def sort(_list):\n",
      "    \"\"\"\n",
      "    Bubble Sorting algorithm\n",
      "\n",
      "    :param _list: list of values to sort\n",
      "    :return: sorted values\n",
      "    \"\"\"\n",
      "    for i in range(len(_list)):\n",
      "        for j in range(len(_list) - 1, i, -1):\n",
      "            if _list[j] < _list[j - 1]:\n",
      "                _list[j], _list[j - 1] = _list[j - 1], _list[j]\n",
      "    return _list\n",
      "\n"
     ]
    }
   ],
   "source": [
    "from pygorithm.sorting import bubble_sort\n",
    "print(bubble_sort.get_code())\n",
    "my_list = [12, 4, 2, 14, 3, 7, 5]\n",
    "sorted_list = bubble_sort.sort(my_list)"
   ]
  },
  {
   "cell_type": "code",
   "execution_count": 10,
   "id": "a93882bd",
   "metadata": {},
   "outputs": [
    {
     "ename": "ModuleNotFoundError",
     "evalue": "No module named 'pygorith'",
     "output_type": "error",
     "traceback": [
      "\u001b[1;31m---------------------------------------------------------------------------\u001b[0m",
      "\u001b[1;31mModuleNotFoundError\u001b[0m                       Traceback (most recent call last)",
      "Input \u001b[1;32mIn [10]\u001b[0m, in \u001b[0;36m<cell line: 1>\u001b[1;34m()\u001b[0m\n\u001b[1;32m----> 1\u001b[0m \u001b[38;5;28;01mfrom\u001b[39;00m \u001b[38;5;21;01mpygorith\u001b[39;00m\u001b[38;5;21;01m.\u001b[39;00m\u001b[38;5;21;01msorting\u001b[39;00m \u001b[38;5;28;01mimport\u001b[39;00m merge_sort\n\u001b[0;32m      2\u001b[0m \u001b[38;5;28mprint\u001b[39m(merge_sort\u001b[38;5;241m.\u001b[39mget_code())\n",
      "\u001b[1;31mModuleNotFoundError\u001b[0m: No module named 'pygorith'"
     ]
    }
   ],
   "source": [
    "from pygorith.sorting import merge_sort\n",
    "print(merge_sort.get_code())"
   ]
  },
  {
   "cell_type": "code",
   "execution_count": 12,
   "id": "e059021d",
   "metadata": {},
   "outputs": [
    {
     "ename": "ModuleNotFoundError",
     "evalue": "No module named 'pygorithim'",
     "output_type": "error",
     "traceback": [
      "\u001b[1;31m---------------------------------------------------------------------------\u001b[0m",
      "\u001b[1;31mModuleNotFoundError\u001b[0m                       Traceback (most recent call last)",
      "Input \u001b[1;32mIn [12]\u001b[0m, in \u001b[0;36m<cell line: 1>\u001b[1;34m()\u001b[0m\n\u001b[1;32m----> 1\u001b[0m \u001b[38;5;28;01mfrom\u001b[39;00m \u001b[38;5;21;01mpygorithim\u001b[39;00m\u001b[38;5;21;01m.\u001b[39;00m\u001b[38;5;21;01msorting\u001b[39;00m \u001b[38;5;28;01mimport\u001b[39;00m merge_sort\n\u001b[0;32m      2\u001b[0m \u001b[38;5;28mprint\u001b[39m(merge_sort\u001b[38;5;241m.\u001b[39mget_code())\n",
      "\u001b[1;31mModuleNotFoundError\u001b[0m: No module named 'pygorithim'"
     ]
    }
   ],
   "source": [
    "from pygorithim.sorting import merge_sort\n",
    "print(merge_sort.get_code())"
   ]
  },
  {
   "cell_type": "code",
   "execution_count": 13,
   "id": "58fac71b",
   "metadata": {
    "scrolled": true
   },
   "outputs": [
    {
     "name": "stdout",
     "output_type": "stream",
     "text": [
      "def sort(_list):\n",
      "    \"\"\"\n",
      "    Function to sort an array \n",
      "    using merge sort algorithm \n",
      "    \n",
      "    :param _list: list of values to sort\n",
      "    :return: sorted\n",
      "    \"\"\"\n",
      "    if len(_list) == 0 or len(_list) == 1:\n",
      "        return _list\n",
      "    else:\n",
      "        middle = len(_list)//2\n",
      "        a = sort(_list[:middle])\n",
      "        b = sort(_list[middle:])\n",
      "        return merge(a, b)\n",
      "\n"
     ]
    }
   ],
   "source": [
    "from pygorithm.sorting import merge_sort\n",
    "print(merge_sort.get_code())"
   ]
  }
 ],
 "metadata": {
  "kernelspec": {
   "display_name": "Python 3 (ipykernel)",
   "language": "python",
   "name": "python3"
  },
  "language_info": {
   "codemirror_mode": {
    "name": "ipython",
    "version": 3
   },
   "file_extension": ".py",
   "mimetype": "text/x-python",
   "name": "python",
   "nbconvert_exporter": "python",
   "pygments_lexer": "ipython3",
   "version": "3.10.2"
  }
 },
 "nbformat": 4,
 "nbformat_minor": 5
}
